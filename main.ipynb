{
  "nbformat": 4,
  "nbformat_minor": 2,
  "metadata": {
    "colab": {
      "name": "spacy_tutorial_fr.ipynb",
      "provenance": []
    },
    "kernelspec": {
      "name": "python3",
      "display_name": "Python 3.7.11  ('env': venv)"
    },
    "language_info": {
      "name": "python",
      "version": "3.7.11",
      "mimetype": "text/x-python",
      "codemirror_mode": {
        "name": "ipython",
        "version": 3
      },
      "pygments_lexer": "ipython3",
      "nbconvert_exporter": "python",
      "file_extension": ".py"
    },
    "interpreter": {
      "hash": "255a4015f1c1e90855768239ccce118b4fb298372c649fe90b758d14a92172ff"
    }
  },
  "cells": [
    {
      "cell_type": "markdown",
      "source": [
        "# Spacy 3.0 Tutorial\n",
        "\n",
        "We use spacy 3.0 for natural language processing"
      ],
      "metadata": {
        "id": "ChmUbvMSRBjl"
      }
    },
    {
      "cell_type": "markdown",
      "source": [
        "## Install French Dependencies"
      ],
      "metadata": {
        "id": "JGGYpC68SEq5"
      }
    },
    {
      "cell_type": "code",
      "execution_count": 1,
      "source": [
        "import spacy\n",
        "!python -m spacy download fr_core_news_sm"
      ],
      "outputs": [
        {
          "output_type": "stream",
          "name": "stdout",
          "text": [
            "Requirement already satisfied: fr-core-news-sm==3.1.0 from https://github.com/explosion/spacy-models/releases/download/fr_core_news_sm-3.1.0/fr_core_news_sm-3.1.0-py3-none-any.whl#egg=fr_core_news_sm==3.1.0 in ./env/lib/python3.7/site-packages (3.1.0)\n",
            "Requirement already satisfied: spacy<3.2.0,>=3.1.0 in ./env/lib/python3.7/site-packages (from fr-core-news-sm==3.1.0) (3.1.2)\n",
            "Requirement already satisfied: catalogue<2.1.0,>=2.0.4 in ./env/lib/python3.7/site-packages (from spacy<3.2.0,>=3.1.0->fr-core-news-sm==3.1.0) (2.0.6)\n",
            "Requirement already satisfied: tqdm<5.0.0,>=4.38.0 in ./env/lib/python3.7/site-packages (from spacy<3.2.0,>=3.1.0->fr-core-news-sm==3.1.0) (4.62.2)\n",
            "Requirement already satisfied: cymem<2.1.0,>=2.0.2 in ./env/lib/python3.7/site-packages (from spacy<3.2.0,>=3.1.0->fr-core-news-sm==3.1.0) (2.0.5)\n",
            "Requirement already satisfied: preshed<3.1.0,>=3.0.2 in ./env/lib/python3.7/site-packages (from spacy<3.2.0,>=3.1.0->fr-core-news-sm==3.1.0) (3.0.5)\n",
            "Requirement already satisfied: thinc<8.1.0,>=8.0.8 in ./env/lib/python3.7/site-packages (from spacy<3.2.0,>=3.1.0->fr-core-news-sm==3.1.0) (8.0.10)\n",
            "Requirement already satisfied: jinja2 in ./env/lib/python3.7/site-packages (from spacy<3.2.0,>=3.1.0->fr-core-news-sm==3.1.0) (3.0.1)\n",
            "Requirement already satisfied: packaging>=20.0 in ./env/lib/python3.7/site-packages (from spacy<3.2.0,>=3.1.0->fr-core-news-sm==3.1.0) (21.0)\n",
            "Requirement already satisfied: requests<3.0.0,>=2.13.0 in ./env/lib/python3.7/site-packages (from spacy<3.2.0,>=3.1.0->fr-core-news-sm==3.1.0) (2.26.0)\n",
            "Requirement already satisfied: srsly<3.0.0,>=2.4.1 in ./env/lib/python3.7/site-packages (from spacy<3.2.0,>=3.1.0->fr-core-news-sm==3.1.0) (2.4.1)\n",
            "Requirement already satisfied: pathy>=0.3.5 in ./env/lib/python3.7/site-packages (from spacy<3.2.0,>=3.1.0->fr-core-news-sm==3.1.0) (0.6.0)\n",
            "Requirement already satisfied: murmurhash<1.1.0,>=0.28.0 in ./env/lib/python3.7/site-packages (from spacy<3.2.0,>=3.1.0->fr-core-news-sm==3.1.0) (1.0.5)\n",
            "Requirement already satisfied: spacy-legacy<3.1.0,>=3.0.7 in ./env/lib/python3.7/site-packages (from spacy<3.2.0,>=3.1.0->fr-core-news-sm==3.1.0) (3.0.8)\n",
            "Requirement already satisfied: blis<0.8.0,>=0.4.0 in ./env/lib/python3.7/site-packages (from spacy<3.2.0,>=3.1.0->fr-core-news-sm==3.1.0) (0.7.4)\n",
            "Requirement already satisfied: typer<0.4.0,>=0.3.0 in ./env/lib/python3.7/site-packages (from spacy<3.2.0,>=3.1.0->fr-core-news-sm==3.1.0) (0.3.2)\n",
            "Requirement already satisfied: numpy>=1.15.0 in ./env/lib/python3.7/site-packages (from spacy<3.2.0,>=3.1.0->fr-core-news-sm==3.1.0) (1.21.2)\n",
            "Requirement already satisfied: pydantic!=1.8,!=1.8.1,<1.9.0,>=1.7.4 in ./env/lib/python3.7/site-packages (from spacy<3.2.0,>=3.1.0->fr-core-news-sm==3.1.0) (1.8.2)\n",
            "Requirement already satisfied: wasabi<1.1.0,>=0.8.1 in ./env/lib/python3.7/site-packages (from spacy<3.2.0,>=3.1.0->fr-core-news-sm==3.1.0) (0.8.2)\n",
            "Requirement already satisfied: typing-extensions<4.0.0.0,>=3.7.4; python_version < \"3.8\" in ./env/lib/python3.7/site-packages (from spacy<3.2.0,>=3.1.0->fr-core-news-sm==3.1.0) (3.10.0.2)\n",
            "Requirement already satisfied: setuptools in ./env/lib/python3.7/site-packages (from spacy<3.2.0,>=3.1.0->fr-core-news-sm==3.1.0) (47.1.0)\n",
            "Requirement already satisfied: zipp>=0.5; python_version < \"3.8\" in ./env/lib/python3.7/site-packages (from catalogue<2.1.0,>=2.0.4->spacy<3.2.0,>=3.1.0->fr-core-news-sm==3.1.0) (3.5.0)\n",
            "Requirement already satisfied: MarkupSafe>=2.0 in ./env/lib/python3.7/site-packages (from jinja2->spacy<3.2.0,>=3.1.0->fr-core-news-sm==3.1.0) (2.0.1)\n",
            "Requirement already satisfied: pyparsing>=2.0.2 in ./env/lib/python3.7/site-packages (from packaging>=20.0->spacy<3.2.0,>=3.1.0->fr-core-news-sm==3.1.0) (2.4.7)\n",
            "Requirement already satisfied: certifi>=2017.4.17 in ./env/lib/python3.7/site-packages (from requests<3.0.0,>=2.13.0->spacy<3.2.0,>=3.1.0->fr-core-news-sm==3.1.0) (2021.5.30)\n",
            "Requirement already satisfied: charset-normalizer~=2.0.0; python_version >= \"3\" in ./env/lib/python3.7/site-packages (from requests<3.0.0,>=2.13.0->spacy<3.2.0,>=3.1.0->fr-core-news-sm==3.1.0) (2.0.4)\n",
            "Requirement already satisfied: idna<4,>=2.5; python_version >= \"3\" in ./env/lib/python3.7/site-packages (from requests<3.0.0,>=2.13.0->spacy<3.2.0,>=3.1.0->fr-core-news-sm==3.1.0) (3.2)\n",
            "Requirement already satisfied: urllib3<1.27,>=1.21.1 in ./env/lib/python3.7/site-packages (from requests<3.0.0,>=2.13.0->spacy<3.2.0,>=3.1.0->fr-core-news-sm==3.1.0) (1.26.6)\n",
            "Requirement already satisfied: smart-open<6.0.0,>=5.0.0 in ./env/lib/python3.7/site-packages (from pathy>=0.3.5->spacy<3.2.0,>=3.1.0->fr-core-news-sm==3.1.0) (5.2.1)\n",
            "Requirement already satisfied: click<7.2.0,>=7.1.1 in ./env/lib/python3.7/site-packages (from typer<0.4.0,>=0.3.0->spacy<3.2.0,>=3.1.0->fr-core-news-sm==3.1.0) (7.1.2)\n",
            "\u001b[33mWARNING: You are using pip version 20.1.1; however, version 21.2.4 is available.\n",
            "You should consider upgrading via the '/home/dynamo63/Documents/python-projects/streamlit-nltk/env/bin/python -m pip install --upgrade pip' command.\u001b[0m\n",
            "\u001b[38;5;2m✔ Download and installation successful\u001b[0m\n",
            "You can now load the package via spacy.load('fr_core_news_sm')\n"
          ]
        }
      ],
      "metadata": {
        "colab": {
          "base_uri": "https://localhost:8080/"
        },
        "id": "3irHe0pVQ-bC",
        "outputId": "3c5aa6f2-7ba8-4e7a-e311-a2db2c80d523"
      }
    },
    {
      "cell_type": "markdown",
      "source": [
        "## Get Started\n",
        "\n",
        "We use spacy"
      ],
      "metadata": {
        "id": "BBRYD-ZtSVie"
      }
    },
    {
      "cell_type": "code",
      "execution_count": 2,
      "source": [
        "import fr_core_news_sm\n",
        "\n",
        "nlp = fr_core_news_sm.load()\n"
      ],
      "outputs": [],
      "metadata": {
        "id": "53xc8VtBSZoG"
      }
    },
    {
      "cell_type": "markdown",
      "source": [
        "Text the model"
      ],
      "metadata": {
        "id": "55tiMpp1VxkH"
      }
    },
    {
      "cell_type": "code",
      "execution_count": 3,
      "source": [
        "doc = nlp(\"Python est le meilleur language de programmation. Javascript est aussi un bon choix.\")\n",
        "for ent in doc.ents:\n",
        "  print(ent.text + \" : \" + ent.label_)"
      ],
      "outputs": [
        {
          "output_type": "stream",
          "name": "stdout",
          "text": [
            "Python : PER\n",
            "Javascript : MISC\n"
          ]
        }
      ],
      "metadata": {
        "colab": {
          "base_uri": "https://localhost:8080/"
        },
        "id": "bJlALH_YV0nE",
        "outputId": "9fd131cd-83cc-48ff-931f-cab81ade39df"
      }
    },
    {
      "cell_type": "markdown",
      "source": [
        "## Create Entity with spacy"
      ],
      "metadata": {
        "id": "0GD2ZJqh0Cv3"
      }
    },
    {
      "cell_type": "code",
      "execution_count": 4,
      "source": [
        "nlp.pipe_names"
      ],
      "outputs": [
        {
          "output_type": "execute_result",
          "data": {
            "text/plain": [
              "['tok2vec', 'morphologizer', 'parser', 'attribute_ruler', 'lemmatizer', 'ner']"
            ]
          },
          "metadata": {},
          "execution_count": 4
        }
      ],
      "metadata": {
        "colab": {
          "base_uri": "https://localhost:8080/"
        },
        "id": "kNp2szrT0bJA",
        "outputId": "e1bc5e17-cd06-4c5a-cfc3-e8b30d15a8b4"
      }
    },
    {
      "cell_type": "markdown",
      "source": [
        "Create data for spacy.\n",
        "\n",
        "\n",
        "1.   We create a function for create data\n",
        "\n"
      ],
      "metadata": {
        "id": "g_zpq3pBAila"
      }
    },
    {
      "cell_type": "code",
      "execution_count": 6,
      "source": [
        "import re\n",
        "def create_data_entities(sentence: str, keyword: str, categorie: str) -> tuple:\n",
        "  \"\"\"\n",
        "    We create a row data for spacy entities\n",
        "  \"\"\"\n",
        "  match = re.search(keyword, sentence)\n",
        "  if match:\n",
        "    return sentence, {\"entities\": [(match.start(), match.end(), categorie)]}\n",
        "  else:\n",
        "    return None\n"
      ],
      "outputs": [],
      "metadata": {
        "id": "tXMbsuIzAlWj"
      }
    },
    {
      "cell_type": "code",
      "execution_count": 7,
      "source": [
        "text_1 = \"Charlie, Ela, Marius et Cicero sont ânes qui ne demandent pas mieux que de vous accompagner en balade\"\n",
        "text_2 = \"La tour d'Autriche marque la fin de votre visite et vous offre une magnifique vue à sur la ville de Bouillon\"\n",
        "text_3 = \"cette belle promenade le conduira dans la vallée de la Trouille et autour du Mont Panisel par de petits sentiers escarpés\"\n",
        "td_1 = create_data_entities(text_1, 'balade', 'BALADE')\n",
        "td_2 = create_data_entities(text_2, 'visite', 'BALADE')\n",
        "td_3 = create_data_entities(text_3, 'promenade', 'BALADE')\n",
        "train_data = [td_1, td_2, td_3,\n",
        "              create_data_entities(\"Nouvelle activité pour enfants alliant promenade et découverte grâce aux jeux et défis\", 'promenade', 'BALADE'),\n",
        "              create_data_entities(\"Une visite du Fort de Lantin\", 'visite', 'BALADE'),\n",
        "              create_data_entities(\"Parcours audio guidé sur smartphone: Le Petit Patrimoine au centre d’Olne\", 'Parcours', 'BALADE'),\n",
        "              create_data_entities(\"C'est une belle promenade au bord de mer\", 'promenade', 'BALADE'),\n",
        "              create_data_entities(\"Voulez-vous explorer la belle Kempen d'une manière unique\", 'explorer', 'BALADE'),\n",
        "              create_data_entities(\"Excursion d'une journée dans votre propre pays\", 'Excursion', 'BALADE'),\n",
        "              create_data_entities(\"Visitez notre hall d'expositions\", 'Visitez', 'BALADE'),\n",
        "              ]\n",
        "train_data\n"
      ],
      "outputs": [
        {
          "output_type": "execute_result",
          "data": {
            "text/plain": [
              "[('Charlie, Ela, Marius et Cicero sont ânes qui ne demandent pas mieux que de vous accompagner en balade',\n",
              "  {'entities': [(95, 101, 'BALADE')]}),\n",
              " (\"La tour d'Autriche marque la fin de votre visite et vous offre une magnifique vue à sur la ville de Bouillon\",\n",
              "  {'entities': [(42, 48, 'BALADE')]}),\n",
              " ('cette belle promenade le conduira dans la vallée de la Trouille et autour du Mont Panisel par de petits sentiers escarpés',\n",
              "  {'entities': [(12, 21, 'BALADE')]}),\n",
              " ('Nouvelle activité pour enfants alliant promenade et découverte grâce aux jeux et défis',\n",
              "  {'entities': [(39, 48, 'BALADE')]}),\n",
              " ('Une visite du Fort de Lantin', {'entities': [(4, 10, 'BALADE')]}),\n",
              " ('Parcours audio guidé sur smartphone: Le Petit Patrimoine au centre d’Olne',\n",
              "  {'entities': [(0, 8, 'BALADE')]}),\n",
              " (\"C'est une belle promenade au bord de mer\",\n",
              "  {'entities': [(16, 25, 'BALADE')]}),\n",
              " (\"Voulez-vous explorer la belle Kempen d'une manière unique\",\n",
              "  {'entities': [(12, 20, 'BALADE')]}),\n",
              " (\"Excursion d'une journée dans votre propre pays\",\n",
              "  {'entities': [(0, 9, 'BALADE')]}),\n",
              " (\"Visitez notre hall d'expositions\", {'entities': [(0, 7, 'BALADE')]})]"
            ]
          },
          "metadata": {},
          "execution_count": 7
        }
      ],
      "metadata": {
        "colab": {
          "base_uri": "https://localhost:8080/"
        },
        "id": "0oXx6h12kX_4",
        "outputId": "ef19c95f-eb87-4b46-9863-080e85f9014c"
      }
    },
    {
      "cell_type": "code",
      "execution_count": 10,
      "source": [
        "# get pipe\n",
        "ner = nlp.get_pipe('ner')\n",
        "LABEL = 'BALADE'\n",
        "# Add the new label to ner\n",
        "ner.add_label(LABEL)\n",
        "# resume training for create optimizer\n",
        "optimizer = nlp.resume_training()\n",
        "move_names = list(ner.move_names)\n",
        "\n",
        "# List of pipes you want to train\n",
        "pipe_exceptions = [\"ner\", \"trf_wordpiecer\", \"trf_tok2vec\"]\n",
        "\n",
        "# List of pipes which should remain unaffected in training\n",
        "other_pipes = [pipe for pipe in nlp.pipe_names if pipe not in pipe_exceptions]"
      ],
      "outputs": [],
      "metadata": {
        "id": "LSVLR7zZKbrU"
      }
    },
    {
      "cell_type": "code",
      "execution_count": 16,
      "source": [
        "# Importing requirements\n",
        "from spacy.util import minibatch, compounding\n",
        "from spacy.training.example import Example\n",
        "import random\n",
        "\n",
        "# Begin training by disabling other pipeline components\n",
        "with nlp.disable_pipes(*other_pipes) :\n",
        "  sizes = compounding(1.0, 4.0, 1.001)\n",
        "  for i in range(10):\n",
        "    # shuffle examples before training\n",
        "    random.shuffle(train_data)\n",
        "    # batch up the examples using spaCy's minibatch\n",
        "    batches = minibatch(train_data, size=sizes)\n",
        "    # get loss\n",
        "    loss = {}\n",
        "    for batch in batches:\n",
        "      for text, annotations in batch:\n",
        "        # create Example\n",
        "        doc = nlp.make_doc(text)\n",
        "        example = Example.from_dict(doc, annotations)\n",
        "        # Update the model\n",
        "        nlp.update([example], losses=loss, drop=0.3)\n",
        "        print(loss)\n"
      ],
      "outputs": [
        {
          "output_type": "stream",
          "name": "stdout",
          "text": [
            "{'ner': 5.079400234577947}\n",
            "{'ner': 7.97815791782277}\n",
            "{'ner': 11.748896244630304}\n",
            "{'ner': 21.058202289061594}\n",
            "{'ner': 23.057992015162192}\n",
            "{'ner': 28.05236956610367}\n",
            "{'ner': 29.81155029280037}\n",
            "{'ner': 32.23190352971501}\n",
            "{'ner': 34.1680726906374}\n",
            "{'ner': 38.82559926896518}\n",
            "{'ner': 2.9792833990484553}\n",
            "{'ner': 6.251909427809466}\n",
            "{'ner': 12.033810299143084}\n",
            "{'ner': 13.906444465090232}\n",
            "{'ner': 15.966311951193262}\n",
            "{'ner': 17.935746918363208}\n",
            "{'ner': 19.79884194044635}\n",
            "{'ner': 21.65897268613108}\n",
            "{'ner': 23.44020529787295}\n",
            "{'ner': 25.636728863031664}\n",
            "{'ner': 1.6397199765779078}\n",
            "{'ner': 3.736125007388182}\n",
            "{'ner': 5.255185907240957}\n",
            "{'ner': 6.946792587754317}\n",
            "{'ner': 8.59236802731175}\n",
            "{'ner': 10.547089706291445}\n",
            "{'ner': 12.523377914098091}\n",
            "{'ner': 13.816187335643917}\n",
            "{'ner': 15.864808406797238}\n",
            "{'ner': 17.510975238285027}\n",
            "{'ner': 1.5812010171357542}\n",
            "{'ner': 3.060192119097337}\n",
            "{'ner': 4.4252897694241256}\n",
            "{'ner': 5.933664583862992}\n",
            "{'ner': 7.5472373960510595}\n",
            "{'ner': 10.118975229052012}\n",
            "{'ner': 11.62646719715849}\n",
            "{'ner': 13.357454600773053}\n",
            "{'ner': 15.10210026455752}\n",
            "{'ner': 16.680324011205812}\n",
            "{'ner': 1.330170298304438}\n",
            "{'ner': 2.669556467459188}\n",
            "{'ner': 3.9650201663462212}\n",
            "{'ner': 5.309348090799176}\n",
            "{'ner': 6.435463522179816}\n",
            "{'ner': 7.783057557558095}\n",
            "{'ner': 9.538517730464264}\n",
            "{'ner': 11.104501942446404}\n",
            "{'ner': 13.022938977844206}\n",
            "{'ner': 13.928309736574192}\n",
            "{'ner': 1.4289595868940523}\n",
            "{'ner': 2.8595666462401823}\n",
            "{'ner': 2.940740322153488}\n",
            "{'ner': 3.9477321850832823}\n",
            "{'ner': 4.727569004176644}\n",
            "{'ner': 4.951509597426025}\n",
            "{'ner': 5.170742144290102}\n",
            "{'ner': 6.152729939984397}\n",
            "{'ner': 6.501272130164921}\n",
            "{'ner': 6.884932315466159}\n",
            "{'ner': 1.2087725899978636}\n",
            "{'ner': 1.7128598617828743}\n",
            "{'ner': 1.7976073169563591}\n",
            "{'ner': 2.7194189457171234}\n",
            "{'ner': 2.7410482351392353}\n",
            "{'ner': 3.529544741393258}\n",
            "{'ner': 3.781390755779635}\n",
            "{'ner': 3.8632782974476734}\n",
            "{'ner': 3.9474123696567234}\n",
            "{'ner': 3.97631678532026}\n",
            "{'ner': 0.0053258902321811075}\n",
            "{'ner': 0.044875734609457915}\n",
            "{'ner': 0.05799878869523256}\n",
            "{'ner': 0.058347201338596444}\n",
            "{'ner': 0.3996527080794874}\n",
            "{'ner': 0.3997948841208164}\n",
            "{'ner': 0.39982109724835696}\n",
            "{'ner': 0.5107541598327152}\n",
            "{'ner': 0.5196236792448733}\n",
            "{'ner': 0.5196978581828046}\n",
            "{'ner': 0.00017802470314802937}\n",
            "{'ner': 0.00017958507630018528}\n",
            "{'ner': 0.002326704124530297}\n",
            "{'ner': 0.02100222062813352}\n",
            "{'ner': 0.021016282055002895}\n",
            "{'ner': 0.06624999945831704}\n",
            "{'ner': 0.06626379407665921}\n",
            "{'ner': 0.06627878362454369}\n",
            "{'ner': 0.17594922827673867}\n",
            "{'ner': 0.17684209504138368}\n",
            "{'ner': 0.0024589651066914114}\n",
            "{'ner': 0.002458965452914177}\n",
            "{'ner': 0.008603244089977305}\n",
            "{'ner': 0.05483818317435996}\n",
            "{'ner': 0.05501626889742253}\n",
            "{'ner': 0.37305181999896686}\n",
            "{'ner': 0.3730531461810296}\n",
            "{'ner': 0.37305334988337713}\n",
            "{'ner': 0.3730546913280408}\n",
            "{'ner': 0.3731090717984435}\n"
          ]
        }
      ],
      "metadata": {
        "colab": {
          "base_uri": "https://localhost:8080/"
        },
        "id": "PxoHYKfDLigJ",
        "outputId": "ac6b1416-b7cb-4a1d-e6bd-113286b9df0d"
      }
    },
    {
      "cell_type": "code",
      "execution_count": 17,
      "source": [
        "from spacy import displacy\n",
        "doc = nlp(\"Visitez notre hall d'expositions\")\n",
        "displacy.render(doc, style=\"ent\", jupyter=True)"
      ],
      "outputs": [
        {
          "output_type": "display_data",
          "data": {
            "text/html": [
              "<span class=\"tex2jax_ignore\"><div class=\"entities\" style=\"line-height: 2.5; direction: ltr\">\n",
              "<mark class=\"entity\" style=\"background: #ddd; padding: 0.45em 0.6em; margin: 0 0.25em; line-height: 1; border-radius: 0.35em;\">\n",
              "    Visitez\n",
              "    <span style=\"font-size: 0.8em; font-weight: bold; line-height: 1; border-radius: 0.35em; vertical-align: middle; margin-left: 0.5rem\">BALADE</span>\n",
              "</mark>\n",
              " notre hall d'expositions</div></span>"
            ],
            "text/plain": [
              "<IPython.core.display.HTML object>"
            ]
          },
          "metadata": {}
        }
      ],
      "metadata": {
        "colab": {
          "base_uri": "https://localhost:8080/",
          "height": 52
        },
        "id": "gd82qF56QXnm",
        "outputId": "29b3c8b4-046c-4441-c525-f570499b11a8"
      }
    },
    {
      "cell_type": "markdown",
      "source": [
        "Save the model"
      ],
      "metadata": {
        "id": "SvHVdyWodKiN"
      }
    },
    {
      "cell_type": "code",
      "execution_count": 18,
      "source": [
        "nlp.to_disk('./spacy_ner_custom')"
      ],
      "outputs": [],
      "metadata": {
        "id": "XVfmVDq2dJIs"
      }
    }
  ]
}